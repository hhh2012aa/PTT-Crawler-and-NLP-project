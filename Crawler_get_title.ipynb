{
 "cells": [
  {
   "cell_type": "code",
   "execution_count": 2,
   "metadata": {},
   "outputs": [],
   "source": [
    "import requests\n",
    "from bs4 import BeautifulSoup\n",
    "from datetime import datetime"
   ]
  },
  {
   "cell_type": "code",
   "execution_count": 3,
   "metadata": {},
   "outputs": [],
   "source": [
    "def get_all_href(url,dt1,dt2):\n",
    "    r = requests.get(url)\n",
    "    soup = BeautifulSoup(r.text, \"html.parser\")\n",
    "    results = soup.select(\"div.title\")\n",
    "    output_str = \"\"\n",
    "    for item in results:\n",
    "        a_item = item.select_one(\"a\")\n",
    "        title = item.text\n",
    "        if a_item:\n",
    "            output_url = 'https://www.ptt.cc'+ a_item.get('href')\n",
    "            if get_article_content(output_url) < dt1:\n",
    "                print(get_article_content(output_url) , dt1)\n",
    "                return output_str, 1 \n",
    "\n",
    "            if get_article_content(output_url) > dt2:\n",
    "                pass\n",
    "            else:\n",
    "                output_str = output_str + title\n",
    "    return output_str, 0\n"
   ]
  },
  {
   "cell_type": "code",
   "execution_count": 4,
   "metadata": {},
   "outputs": [],
   "source": [
    "\n",
    "def get_article_content(article_url):\n",
    "    r = requests.get(article_url)\n",
    "    soup = BeautifulSoup(r.text, \"lxml\")\n",
    "    results = soup.select('span.article-meta-value')\n",
    "    try:\n",
    "        date_dt1 = datetime.strptime(results[3].text, '%c')\n",
    "        return date_dt1.date()\n",
    "    except: \n",
    "        return datetime.strptime(\"2100/12/31\",\"%Y/%m/%d\").date()\n",
    "\n",
    "\n"
   ]
  },
  {
   "cell_type": "code",
   "execution_count": 5,
   "metadata": {},
   "outputs": [
    {
     "name": "stdout",
     "output_type": "stream",
     "text": [
      "請輸入看板名稱:Lifeismoney\n",
      "請輸入日期區間: (EX: 2020/01/01 [Enter] 2020/01/02) \n",
      "2020/09/21\n",
      "2020/09/28\n",
      "2\n",
      "3\n",
      "4\n",
      "5\n",
      "6\n",
      "7\n",
      "2020-09-19 2020-09-21\n",
      "8\n"
     ]
    }
   ],
   "source": [
    "board = input(\"請輸入看板名稱:\")\n",
    "\n",
    "url=\"https://www.ptt.cc/bbs/\" + board + \"/index.html\" \n",
    "dt1 = input(\"請輸入日期區間: (EX: 2020/01/01 [Enter] 2020/01/02) \\n\")\n",
    "dt2 = input(\"\")\n",
    "dt1 = datetime.strptime(dt1, \"%Y/%m/%d\").date()\n",
    "dt2 = datetime.strptime(dt2, \"%Y/%m/%d\").date()\n",
    "\n",
    "page = 1\n",
    "all_str = \"\"\n",
    "status = 0\n",
    "while True:\n",
    "    r = requests.get(url)\n",
    "    soup = BeautifulSoup(r.text,\"html.parser\")\n",
    "    btn = soup.select('div.btn-group > a')\n",
    "    up_page_href = btn[3]['href']\n",
    "    next_page_url = 'https://www.ptt.cc' + up_page_href\n",
    "    url = next_page_url\n",
    "    temp_str, status = get_all_href(url,dt1,dt2)\n",
    "    all_str = all_str + temp_str\n",
    "    page = page + 1\n",
    "    print(page)\n",
    "    if status == 1:\n",
    "        break"
   ]
  },
  {
   "cell_type": "code",
   "execution_count": 6,
   "metadata": {},
   "outputs": [
    {
     "data": {
      "text/plain": [
       "'\\n[情報] 蝦幣兌換全站折價券\\n\\n[情報] 屈臣氏舒適牌刮鬍刀片特價\\n\\n[情報] Google pixel3a56折 等\\n\\n[情報] line分享指定頁面拿代幣\\n\\n[情報] 10/14捐血送全聯禮券\\n\\n[情報] 高雄大遠百 捐血\\n\\n[討論] ubereats的優饗方案是次等人？\\n\\n[情報] 10/1-3台北捐血送口罩\\n\\n[情報] ATUNAS Gore-Tex兩件式外套 $4130 (momo)\\n\\n[情報] 統一超商UNI FIT氣泡運動飲料買一送一\\n\\n[情報] 9/30-10/1橘子支付X頂好\\n\\n[情報] Friday影音30天免費序號(續扣型)\\n\\nRe: [情報] 蝦幣兌換全站折價券\\n\\n[情報] GoShare 騎乘金20 (已結束）\\n\\n[情報] momo 可攜式真空保鮮機特價\\n\\n[情報] PChome卡巴斯基全方位 半價$1395(3台2年)\\n\\n[情報] GoShare 騎乘金 15*2\\n\\n[情報]  全聯 Biore蜜妮洗面乳100g特價69元\\n\\n[情報] IOS限免 除廣告看影片(已結束)\\n\\n[情報] 熊貓外送-滿100元免運至九月底\\n\\n[情報] PX Pay宣誓贈100福利點(限30000名)\\n\\n[情報] 家樂福線上購物 line導購8%回饋(上限500)\\n\\n[情報]  樂豆/橘子支付/茶湯會/9.26隨機返利\\n\\n[情報] 9/26~27 21世紀風味館烤雞分享餐折50\\n\\n[情報] 博客來  知識挑戰--中秋場\\n\\nRe: [情報]  樂豆/橘子支付/茶湯會/9.26隨機返利\\n\\n[情報] 哈瓦仕人字拖買1送1 就2天 9/26-27\\n\\n[情報] Foodpanda 限時免運（結束）\\n\\n[情報] 恆春 富麗敦飯店推雙人房1000元優惠\\n\\n[情報] 全家單品咖啡買一送一\\n\\n[情報] Hi-Life 萊爾富 09/25~09/27 快閃搶購\\n\\n[情報]  9/27,家樂褔滿2000贈10%券\\n\\n[情報] 台北/台灣銀行捐血活動\\n\\n[情報] wemo騎乘金20（內含優惠碼）\\n\\n[情報] newbalance 蝦皮品牌日\\n\\nRe: [情報] 全聯 花王洗髮精65元\\n\\n[情報] 台北 清水茶香 手搖飲買一送一\\n\\n[情報] 買必利勁送保險套\\n\\n[情報] line points 4(安卓限定)+3\\n\\n[情報] OS千層手工蛋捲$380\\n\\n[情報] 109年7-8月 統一發票中獎號碼\\n\\n[情報] Krispy Kreme買一盒送3個原味糖霜甜甜圈\\n\\n[情報] smart2go 200折價券\\n\\n[情報] 遠銀補班小確幸 NT$500輕鬆拿\\n\\n[情報] MYCARD 星空碎片活動\\n\\n[情報] 北臉GORE-TEX防水機能外套特價\\n\\n[情報] 雅詩蘭黛 憑簡訊換粉持久粉底試用\\n\\n[情報] yahoo蘭芝氣墊買一送一又有了\\n\\n[情報] momo俏樂斯保養品99元搶購\\n\\n[情報] 小米有品鏡頭挖耳棒 特價$549\\n\\n[情報] GoShare 騎乘金20 (內有優惠碼）\\n\\n[討論] 歐樂B專業口腔護理組\\n\\n[情報] GoShare 騎乘金100 (已結束）\\n\\n[情報] 樂天信用卡的 \"導購\" 指定平台10% 回饋\\n\\n[情報] 點點卡9/23-10/6 點數2倍送\\n\\n[新聞] 10月連假 義大樂園祭出第二人10元優惠\\n\\n[情報] y購 20大品牌 一日限定 line回饋10%\\n\\n[情報] line導購iherb 12%\\n\\n[情報] Line pay送麥當勞30元抵用卷\\n\\n[情報] PCHOME今晚9點LINE導購3%\\n\\n[情報] line points 1+4\\n\\n[情報] 每天領88折券，Kiehl\\'s冰河醣霜125ml竟然只要$1480\\n\\n[情報] nike adidas 免運 滿499折100\\n\\n[情報] 國泰亞洲萬里通聯名卡累哩期間優惠\\n\\n[情報] LINE貼圖 好感製造機 即時回饋\\n\\n[情報] Mother-K官網特價\\n\\n[討論] 女友自製的週年慶優惠表格(高雄)\\n\\n[情報] 預約居家清潔憑序號可得500元搭車金\\n\\n[情報] Y購買Dyson無線吸塵器金額試算\\n\\n[情報] 家樂福icash2.0消費滿千回饋10%OP\\n\\nRe: [情報] 全聯 花王洗髮精65元\\n\\n[情報] 紅龍肉捲跟雞腿排限時99元\\n\\n[情報] KLOOK 50元、95折優惠碼\\n\\n[情報] LINE Pay Money繳納聯邦卡費2%回饋\\n\\n[情報] OPENPOINT 週四驚喜日-明太子海鮮義大利\\n\\nRe: [情報] 9/21-9/23白蘭氏官網用Line導購10%回饋\\n\\n[情報] 寶雅app限時兌換\\n\\n[情報] NIKE 官網特價商品再7折+不限額免運 \\n\\n[情報] Wemo騎兩趟回饋30\\n\\n[情報] 露天拍賣結帳滿$61運費現折$60\\n\\n[情報] 蝦皮折扣碼（一卡通快閃）\\n\\n[情報] 南法香頌忍冬特價\\n\\n[情報] 萊爾富會員透過LINE購物有10%回饋\\n\\n[情報] 9/27台北市公園號 捐血送牛排\\n\\n[情報] 大苑子APP有免費荔枝玫瑰茶(分眾行銷？)\\n\\n[情報] Goshare騎乘金\\n\\n[情報] 馬來西亞 貓山王榴槤400g/盒 最低$760\\n\\n[情報] ikea LINNMON桌子特價\\n\\n[情報] 愛買桂格即沖即食大燕麥片*2特價190元\\n\\n[情報] 笨Q螢幕24吋4838 雷蛇無線1690\\n\\n[情報] 蝦皮99折50\\n\\n[情報] 淘寶台灣 樂樂q貝 3盒600\\n\\n[情報] 蝦皮10月免運月\\n\\n[情報] Line 貼圖發財金\\n\\n[情報] 永豐蝦皮品牌日\\n\\n[新聞] 正宗香港茶餐廳-萬芳冰室 比臉大生炸雞腿\\n\\n[情報] 9/26永和捐血送薑母鴨\\n\\n[情報] 9/22只有一天的蝦皮X石頭品牌慶(+折扣碼)\\n\\n[情報] 9/21-9/23白蘭氏官網用Line導購10%回饋\\n\\n[情報] 萬華 龍山寺地下街滿額消費送按摩折價券\\n\\n[情報] Yahoo拍賣LINE導購2%\\n\\n[情報] Line購物護照 1點兌限量福袋\\n\\n[情報] mos 番茄吉士蛋堡兩套100\\n\\n[情報] Lee 短T任二件666元\\n\\n[情報] 小米藍牙耳機 AirDots 超值版$179\\n\\n[情報] 潮牌CYCLE TAIPEI 信義區特賣短T五件999\\n\\n[情報] GOShare騎乘金 \\n\\n[情報] 上山採藥洗沐組買2送1\\n\\n[情報] 必勝客及肯德基優惠券\\n\\n[情報] Foodpanda 新客優惠5折\\n\\n[公告] 水桶名單\\n\\n[情報] 台中海縣土銀捐血活動\\n'"
      ]
     },
     "execution_count": 6,
     "metadata": {},
     "output_type": "execute_result"
    }
   ],
   "source": [
    "all_str"
   ]
  },
  {
   "cell_type": "code",
   "execution_count": null,
   "metadata": {},
   "outputs": [],
   "source": []
  }
 ],
 "metadata": {
  "kernelspec": {
   "display_name": "Python 3",
   "language": "python",
   "name": "python3"
  },
  "language_info": {
   "codemirror_mode": {
    "name": "ipython",
    "version": 3
   },
   "file_extension": ".py",
   "mimetype": "text/x-python",
   "name": "python",
   "nbconvert_exporter": "python",
   "pygments_lexer": "ipython3",
   "version": "3.7.3"
  }
 },
 "nbformat": 4,
 "nbformat_minor": 4
}
